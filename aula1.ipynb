{
 "cells": [
  {
   "cell_type": "markdown",
   "metadata": {},
   "source": [
    "## Inteligência Artificial (guarda-chuva)\n",
    "\n",
    "\n",
    "- Imitação do humano\n",
    "- Ajudar o ser humano na produtividade\n",
    "- Imitar a inteligência humana e seus sentidos\n",
    "- Reconhecer padrões e resolver problemas"
   ]
  },
  {
   "cell_type": "markdown",
   "metadata": {},
   "source": [
    "## Machine Learning\n",
    "  - Supervisionado: dados rotulados\n",
    "  - Não supervisionado: sem dados rotulados\n",
    "\n",
    "## Deep Learning\n",
    "  - A diferença ele possui redes neurais"
   ]
  },
  {
   "cell_type": "markdown",
   "metadata": {},
   "source": [
    "### O que você pode fazer:\n",
    "\n",
    "1- Transformar texto em áudio (falar).\n",
    "\n",
    "2- Identificar e comparar imagens e objetivos (ver)\n",
    "\n",
    "3- Aplicar a física (raio cósmicos): modelos que \n",
    "encapsulam funções- velocidade de processamanento e \n",
    "entendimento da função\n",
    "\n",
    "4- Engenharia Civil encapsula funções\n",
    "\n",
    "5- Midias Sociais- estão te ouvindo para oferecer um\n",
    "produto.\n",
    "\n",
    "6- Policia\n",
    "  viés: restrições\n",
    "  variância: flexibilidade\n",
    "  underfitting\n",
    "  Overfitting\n",
    "  \n",
    "7- Jogos\n",
    "- Por reforço \n",
    "\n",
    "Xadrez"
   ]
  },
  {
   "cell_type": "markdown",
   "metadata": {},
   "source": [
    "## O que você pode fazer com a IA:\n",
    "\n",
    "  - Inferir espécie de uma flor a partir das medidas desta;\n",
    "  - Dataset: Íris (código genético e frnótipos)\n",
    "  - Transformar um dígito escrito a mão em texto (string)\n",
    "  - Recomenda filmes-base dataset de avaliações\n",
    "  - Analisar de Sentimentos\n",
    "  - Detectar objetos\n",
    "  - Treinar um Táxi autônomo"
   ]
  },
  {
   "cell_type": "markdown",
   "metadata": {},
   "source": [
    "## Métricas\n",
    "\n",
    " - Métrica é uma régua para medir o desempenho dos nossos \n",
    " modelos.\n",
    "\n",
    " - Função de custo e otimizadores (discerne se a predição é boa ou ruim)- erro quadrático médio."
   ]
  },
  {
   "cell_type": "markdown",
   "metadata": {},
   "source": [
    "## Terminologias\n",
    "\n",
    " - Ciência de Dados: campo acadêmico interdisciplinar para sugestões de insights e tomada de decisão.\n",
    "\n",
    " - Overffiting : aprendeu demais\n",
    "\n",
    " - Viés : restrições impostas na função\n",
    "\n",
    " - Variância: Flexibilidade da técnica em se adaptar os dados."
   ]
  },
  {
   "cell_type": "markdown",
   "metadata": {},
   "source": [
    "### DataSet: Iris"
   ]
  },
  {
   "cell_type": "code",
   "execution_count": 3,
   "metadata": {},
   "outputs": [],
   "source": [
    "url = 'https://gist.githubusercontent.com/netj/8836201/raw/6f9306ad21398ea43cba4f7d537619d0e07d5ae3/iris.csv'"
   ]
  },
  {
   "cell_type": "code",
   "execution_count": 4,
   "metadata": {},
   "outputs": [
    {
     "name": "stdout",
     "output_type": "stream",
     "text": [
      "Defaulting to user installation because normal site-packages is not writeable\n",
      "Requirement already satisfied: pandas in c:\\users\\ead\\appdata\\local\\packages\\pythonsoftwarefoundation.python.3.12_qbz5n2kfra8p0\\localcache\\local-packages\\python312\\site-packages (2.2.2)\n",
      "Requirement already satisfied: numpy>=1.26.0 in c:\\users\\ead\\appdata\\local\\packages\\pythonsoftwarefoundation.python.3.12_qbz5n2kfra8p0\\localcache\\local-packages\\python312\\site-packages (from pandas) (2.1.0)\n",
      "Requirement already satisfied: python-dateutil>=2.8.2 in c:\\users\\ead\\appdata\\local\\packages\\pythonsoftwarefoundation.python.3.12_qbz5n2kfra8p0\\localcache\\local-packages\\python312\\site-packages (from pandas) (2.9.0.post0)\n",
      "Requirement already satisfied: pytz>=2020.1 in c:\\users\\ead\\appdata\\local\\packages\\pythonsoftwarefoundation.python.3.12_qbz5n2kfra8p0\\localcache\\local-packages\\python312\\site-packages (from pandas) (2024.1)\n",
      "Requirement already satisfied: tzdata>=2022.7 in c:\\users\\ead\\appdata\\local\\packages\\pythonsoftwarefoundation.python.3.12_qbz5n2kfra8p0\\localcache\\local-packages\\python312\\site-packages (from pandas) (2024.1)\n",
      "Requirement already satisfied: six>=1.5 in c:\\users\\ead\\appdata\\local\\packages\\pythonsoftwarefoundation.python.3.12_qbz5n2kfra8p0\\localcache\\local-packages\\python312\\site-packages (from python-dateutil>=2.8.2->pandas) (1.16.0)\n",
      "Note: you may need to restart the kernel to use updated packages.\n"
     ]
    }
   ],
   "source": [
    "pip install pandas"
   ]
  }
 ],
 "metadata": {
  "kernelspec": {
   "display_name": "Python 3",
   "language": "python",
   "name": "python3"
  },
  "language_info": {
   "codemirror_mode": {
    "name": "ipython",
    "version": 3
   },
   "file_extension": ".py",
   "mimetype": "text/x-python",
   "name": "python",
   "nbconvert_exporter": "python",
   "pygments_lexer": "ipython3",
   "version": "3.12.5"
  }
 },
 "nbformat": 4,
 "nbformat_minor": 2
}
